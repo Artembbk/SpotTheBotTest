{
 "cells": [
  {
   "cell_type": "markdown",
   "metadata": {
    "id": "KyRQoXqg8Mst"
   },
   "source": [
    "# TFIDF matrix"
   ]
  },
  {
   "cell_type": "code",
   "execution_count": 10,
   "metadata": {
    "ExecuteTime": {
     "end_time": "2023-05-25T19:02:31.411064Z",
     "start_time": "2023-05-25T19:02:31.405505Z"
    },
    "id": "6sKgWC8s8O-c"
   },
   "outputs": [],
   "source": [
    "from sklearn.feature_extraction.text import TfidfVectorizer\n",
    "def make_matrix_W_list_of_words(corpus_path, min_df, max_df=None, token_pattern = None, use_idf = True):\n",
    "    with open(corpus_path, 'r') as corpus_file:\n",
    "        if token_pattern:\n",
    "            vectorizer = TfidfVectorizer(analyzer='word', min_df=min_df, token_pattern=token_pattern, use_idf=use_idf)\n",
    "        else:\n",
    "            vectorizer = TfidfVectorizer(analyzer='word', min_df=min_df, use_idf=use_idf)\n",
    "        data_vectorized = vectorizer.fit_transform(corpus_file)\n",
    "    return data_vectorized, vectorizer.get_feature_names_out()"
   ]
  },
  {
   "cell_type": "code",
   "execution_count": 11,
   "metadata": {
    "ExecuteTime": {
     "end_time": "2023-05-25T19:02:41.962993Z",
     "start_time": "2023-05-25T19:02:31.568397Z"
    },
    "id": "VZtnzG7a9P_V"
   },
   "outputs": [],
   "source": [
    "W, words_list  = make_matrix_W_list_of_words('origin_corpus_ce.txt', 1)"
   ]
  },
  {
   "cell_type": "code",
   "execution_count": 12,
   "metadata": {
    "ExecuteTime": {
     "end_time": "2023-05-25T19:02:41.967387Z",
     "start_time": "2023-05-25T19:02:41.964442Z"
    },
    "colab": {
     "base_uri": "https://localhost:8080/"
    },
    "id": "MZlsPdzQ9aMN",
    "outputId": "b75d4d4e-bbdb-4d6f-d101-5c61d3f9d958"
   },
   "outputs": [
    {
     "data": {
      "text/plain": [
       "(20254, 886273)"
      ]
     },
     "execution_count": 12,
     "metadata": {},
     "output_type": "execute_result"
    }
   ],
   "source": [
    "W.shape"
   ]
  },
  {
   "cell_type": "markdown",
   "metadata": {
    "id": "HTe5LVTQFLij"
   },
   "source": [
    "# SVD"
   ]
  },
  {
   "cell_type": "code",
   "execution_count": 13,
   "metadata": {
    "ExecuteTime": {
     "end_time": "2023-05-25T19:02:41.979760Z",
     "start_time": "2023-05-25T19:02:41.968531Z"
    },
    "id": "rzDVSaBWFjQW"
   },
   "outputs": [],
   "source": [
    "from scipy.sparse.linalg import svds\n",
    "import numpy as np"
   ]
  },
  {
   "cell_type": "markdown",
   "metadata": {
    "id": "KoQeN_xJLNED"
   },
   "source": [
    "The code below will apply the rank k SVD decomposition and save all the matrixes in the given folder"
   ]
  },
  {
   "cell_type": "code",
   "execution_count": 14,
   "metadata": {
    "ExecuteTime": {
     "end_time": "2023-05-25T19:02:41.991607Z",
     "start_time": "2023-05-25T19:02:41.982619Z"
    },
    "id": "C6dgRt2DG2IP"
   },
   "outputs": [],
   "source": [
    "def apply_svd(W, k, output_folder):\n",
    "    #Apply the SVD function\n",
    "    u, sigma, vt = svds(W, k)\n",
    "\n",
    "    descending_order_of_inds = np.flip(np.argsort(sigma))\n",
    "    u = u[:,descending_order_of_inds]\n",
    "    vt = vt[descending_order_of_inds]\n",
    "    sigma = sigma[descending_order_of_inds]\n",
    "\n",
    "  #Checking that sizes are ok\n",
    "    assert sigma.shape == (k,)\n",
    "    assert vt.shape == (k, W.shape[1])\n",
    "    assert u.shape == (W.shape[0], k)\n",
    "  \n",
    "  #Now, we'll save all the matrixes in folder (just in case)\n",
    "    with open(output_folder+'/' + str(k) + '_sigma_vt.npy', 'wb') as f:\n",
    "        np.save(f, np.dot(np.diag(sigma), vt).T)\n",
    "    with open(output_folder+'/' +  str(k) + '_sigma.npy', 'wb') as f:\n",
    "        np.save(f, sigma)\n",
    "    with open(output_folder+'/' +  str(k) + '_u.npy', 'wb') as f:\n",
    "        np.save(f, u)\n",
    "    with open(output_folder+'/' +  str(k) + '_vt.npy', 'wb') as f:\n",
    "        np.save(f, vt)\n",
    "    return np.dot(np.diag(sigma), vt).T"
   ]
  },
  {
   "cell_type": "code",
   "execution_count": 15,
   "metadata": {
    "ExecuteTime": {
     "end_time": "2023-05-25T19:02:46.169424Z",
     "start_time": "2023-05-25T19:02:41.994350Z"
    },
    "id": "fka4e-nhIdiF"
   },
   "outputs": [],
   "source": [
    "vv = apply_svd(W, 20, '.')"
   ]
  },
  {
   "cell_type": "code",
   "execution_count": 16,
   "metadata": {
    "ExecuteTime": {
     "end_time": "2023-05-25T19:02:46.173383Z",
     "start_time": "2023-05-25T19:02:46.170746Z"
    },
    "id": "7FQK40LmMGa8"
   },
   "outputs": [],
   "source": [
    "def create_dictionary(words_list, vv, output_file):\n",
    "    dictionary = {}\n",
    "    for word, vector in zip(words_list, vv):\n",
    "        dictionary[word] = vector\n",
    "    np.save(output_file, dictionary)\n",
    "    return dictionary"
   ]
  },
  {
   "cell_type": "code",
   "execution_count": 17,
   "metadata": {
    "ExecuteTime": {
     "end_time": "2023-05-25T19:02:51.178621Z",
     "start_time": "2023-05-25T19:02:46.174537Z"
    },
    "id": "I0dukXxBMSME"
   },
   "outputs": [],
   "source": [
    "dictionary = create_dictionary(words_list, vv, 'ce_dictionary_svd_20.npy')"
   ]
  },
  {
   "cell_type": "code",
   "execution_count": null,
   "metadata": {},
   "outputs": [],
   "source": []
  }
 ],
 "metadata": {
  "colab": {
   "provenance": []
  },
  "kernelspec": {
   "display_name": "Python 3 (ipykernel)",
   "language": "python",
   "name": "python3"
  },
  "language_info": {
   "codemirror_mode": {
    "name": "ipython",
    "version": 3
   },
   "file_extension": ".py",
   "mimetype": "text/x-python",
   "name": "python",
   "nbconvert_exporter": "python",
   "pygments_lexer": "ipython3",
   "version": "3.8.10"
  },
  "toc": {
   "base_numbering": 1,
   "nav_menu": {},
   "number_sections": true,
   "sideBar": true,
   "skip_h1_title": false,
   "title_cell": "Table of Contents",
   "title_sidebar": "Contents",
   "toc_cell": false,
   "toc_position": {},
   "toc_section_display": true,
   "toc_window_display": false
  }
 },
 "nbformat": 4,
 "nbformat_minor": 1
}
