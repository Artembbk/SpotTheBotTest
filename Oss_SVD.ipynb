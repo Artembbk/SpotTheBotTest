{
 "cells": [
  {
   "cell_type": "markdown",
   "metadata": {
    "id": "KyRQoXqg8Mst"
   },
   "source": [
    "# TFIDF matrix"
   ]
  },
  {
   "cell_type": "code",
   "execution_count": 30,
   "metadata": {
    "ExecuteTime": {
     "end_time": "2023-05-25T19:02:48.987701Z",
     "start_time": "2023-05-25T19:02:48.981915Z"
    },
    "id": "6sKgWC8s8O-c"
   },
   "outputs": [],
   "source": [
    "from sklearn.feature_extraction.text import TfidfVectorizer\n",
    "def make_matrix_W_list_of_words(corpus_path, min_df, max_df=None, token_pattern = None, use_idf = True):\n",
    "    with open(corpus_path, 'r') as corpus_file:\n",
    "        if token_pattern:\n",
    "            vectorizer = TfidfVectorizer(analyzer='word', min_df=min_df, token_pattern=token_pattern, use_idf=use_idf)\n",
    "        else:\n",
    "            vectorizer = TfidfVectorizer(analyzer='word', min_df=min_df, use_idf=use_idf)\n",
    "        data_vectorized = vectorizer.fit_transform(corpus_file)\n",
    "    return data_vectorized, vectorizer.get_feature_names_out()"
   ]
  },
  {
   "cell_type": "code",
   "execution_count": 31,
   "metadata": {
    "ExecuteTime": {
     "end_time": "2023-05-25T19:03:12.548792Z",
     "start_time": "2023-05-25T19:02:49.150509Z"
    },
    "id": "VZtnzG7a9P_V"
   },
   "outputs": [],
   "source": [
    "W, words_list  = make_matrix_W_list_of_words('origin_corpus_oss.txt', 1)"
   ]
  },
  {
   "cell_type": "code",
   "execution_count": 32,
   "metadata": {
    "ExecuteTime": {
     "end_time": "2023-05-25T19:03:12.554153Z",
     "start_time": "2023-05-25T19:03:12.550415Z"
    },
    "colab": {
     "base_uri": "https://localhost:8080/"
    },
    "id": "MZlsPdzQ9aMN",
    "outputId": "b75d4d4e-bbdb-4d6f-d101-5c61d3f9d958"
   },
   "outputs": [
    {
     "data": {
      "text/plain": [
       "(1201, 866485)"
      ]
     },
     "execution_count": 32,
     "metadata": {},
     "output_type": "execute_result"
    }
   ],
   "source": [
    "W.shape"
   ]
  },
  {
   "cell_type": "markdown",
   "metadata": {
    "id": "HTe5LVTQFLij"
   },
   "source": [
    "# SVD"
   ]
  },
  {
   "cell_type": "code",
   "execution_count": 2,
   "metadata": {
    "ExecuteTime": {
     "end_time": "2023-05-29T09:03:20.605771Z",
     "start_time": "2023-05-29T09:03:20.396854Z"
    },
    "id": "rzDVSaBWFjQW"
   },
   "outputs": [],
   "source": [
    "from scipy.sparse.linalg import svds\n",
    "import numpy as np"
   ]
  },
  {
   "cell_type": "markdown",
   "metadata": {
    "id": "KoQeN_xJLNED"
   },
   "source": [
    "The code below will apply the rank k SVD decomposition and save all the matrixes in the given folder"
   ]
  },
  {
   "cell_type": "code",
   "execution_count": 34,
   "metadata": {
    "ExecuteTime": {
     "end_time": "2023-05-25T19:03:12.576773Z",
     "start_time": "2023-05-25T19:03:12.568261Z"
    },
    "id": "C6dgRt2DG2IP"
   },
   "outputs": [],
   "source": [
    "def apply_svd(W, k, output_folder):\n",
    "  #Apply the SVD function\n",
    "    u, sigma, vt = svds(W, k)\n",
    "\n",
    "  #The function does not garantee, that the order of the singular values is descending\n",
    "  #So, we need to dreate it by hand\n",
    "    descending_order_of_inds = np.flip(np.argsort(sigma))\n",
    "    u = u[:,descending_order_of_inds]\n",
    "    vt = vt[descending_order_of_inds]\n",
    "    sigma = sigma[descending_order_of_inds]\n",
    "\n",
    "  #Checking that sizes are ok\n",
    "    assert sigma.shape == (k,)\n",
    "    assert vt.shape == (k, W.shape[1])\n",
    "    assert u.shape == (W.shape[0], k)\n",
    "  \n",
    "  #Now, we'll save all the matrixes in folder (just in case)\n",
    "    with open(output_folder+'/' + str(k) + '_sigma_vt.npy', 'wb') as f:\n",
    "        np.save(f, np.dot(np.diag(sigma), vt).T)\n",
    "    with open(output_folder+'/' +  str(k) + '_sigma.npy', 'wb') as f:\n",
    "        np.save(f, sigma)\n",
    "    with open(output_folder+'/' +  str(k) + '_u.npy', 'wb') as f:\n",
    "        np.save(f, u)\n",
    "    with open(output_folder+'/' +  str(k) + '_vt.npy', 'wb') as f:\n",
    "        np.save(f, vt)\n",
    "    return np.dot(np.diag(sigma), vt).T"
   ]
  },
  {
   "cell_type": "code",
   "execution_count": 35,
   "metadata": {
    "ExecuteTime": {
     "end_time": "2023-05-25T19:03:21.169991Z",
     "start_time": "2023-05-25T19:03:12.578139Z"
    },
    "id": "fka4e-nhIdiF"
   },
   "outputs": [],
   "source": [
    "vv = apply_svd(W, 20, '.')"
   ]
  },
  {
   "cell_type": "code",
   "execution_count": 36,
   "metadata": {
    "ExecuteTime": {
     "end_time": "2023-05-25T19:03:21.174393Z",
     "start_time": "2023-05-25T19:03:21.171435Z"
    },
    "id": "7FQK40LmMGa8"
   },
   "outputs": [],
   "source": [
    "def create_dictionary(words_list, vv, output_file):\n",
    "    dictionary = {}\n",
    "    for word, vector in zip(words_list, vv):\n",
    "        dictionary[word] = vector\n",
    "    np.save(output_file, dictionary)\n",
    "    return dictionary"
   ]
  },
  {
   "cell_type": "code",
   "execution_count": 37,
   "metadata": {
    "ExecuteTime": {
     "end_time": "2023-05-25T19:03:26.245342Z",
     "start_time": "2023-05-25T19:03:21.176090Z"
    },
    "id": "I0dukXxBMSME"
   },
   "outputs": [],
   "source": [
    "dictionary = create_dictionary(words_list, vv, 'oss_dictionary_svd_20.npy')"
   ]
  },
  {
   "cell_type": "code",
   "execution_count": 3,
   "metadata": {
    "ExecuteTime": {
     "end_time": "2023-05-29T09:03:24.034828Z",
     "start_time": "2023-05-29T09:03:22.105666Z"
    }
   },
   "outputs": [],
   "source": [
    "word2vec = np.load('oss_dictionary_svd_20.npy', allow_pickle=True).item()"
   ]
  },
  {
   "cell_type": "code",
   "execution_count": 11,
   "metadata": {
    "ExecuteTime": {
     "end_time": "2023-05-29T09:05:18.800876Z",
     "start_time": "2023-05-29T09:05:18.793559Z"
    },
    "scrolled": false
   },
   "outputs": [
    {
     "data": {
      "text/plain": [
       "{'æгкары': array([-8.62071721e-05,  1.16585695e-05, -6.71802157e-05,  5.43344483e-05,\n",
       "         1.61263119e-05, -1.98442873e-06,  6.45240084e-05,  1.33016933e-04,\n",
       "        -1.31998968e-05,  1.38609929e-04, -4.16983993e-05,  1.42978655e-04,\n",
       "         2.18714099e-05,  2.03271663e-04,  8.78132652e-06,  1.96892200e-04,\n",
       "         1.20474634e-04,  6.37786330e-05,  4.49281474e-05, -2.05907385e-04]),\n",
       " 'æгкаты': array([-1.08221203e-03,  1.22046639e-04, -6.47724952e-04, -1.51051734e-03,\n",
       "         3.90179106e-04, -3.52363590e-05,  4.03837431e-04, -4.15651615e-04,\n",
       "         1.55965607e-04,  4.15703441e-04,  6.18815527e-04,  2.34908765e-04,\n",
       "        -1.81547758e-04, -2.93622849e-04,  2.96508302e-04, -4.62957465e-04,\n",
       "        -4.24050356e-04,  5.92263847e-04,  5.92230650e-04,  1.29227670e-06]),\n",
       " 'æгкац': array([-1.13745089e-04, -9.85985350e-06, -6.68491018e-05,  7.40437151e-06,\n",
       "        -3.20991358e-04,  3.91413307e-05,  1.69594971e-04,  1.38330419e-04,\n",
       "        -6.65125885e-06, -2.00279173e-05, -2.20827544e-04, -7.99910669e-05,\n",
       "         7.56547412e-05,  2.27597723e-04,  1.14296598e-04, -4.67416449e-05,\n",
       "         1.97499853e-04,  8.52799024e-05,  6.62870415e-05,  1.60653658e-04])}"
      ]
     },
     "execution_count": 11,
     "metadata": {},
     "output_type": "execute_result"
    }
   ],
   "source": [
    "from itertools import islice\n",
    "dict(islice(word2vec.items(), 20000, 20003))"
   ]
  },
  {
   "cell_type": "code",
   "execution_count": null,
   "metadata": {},
   "outputs": [],
   "source": []
  }
 ],
 "metadata": {
  "colab": {
   "provenance": []
  },
  "kernelspec": {
   "display_name": "Python 3 (ipykernel)",
   "language": "python",
   "name": "python3"
  },
  "language_info": {
   "codemirror_mode": {
    "name": "ipython",
    "version": 3
   },
   "file_extension": ".py",
   "mimetype": "text/x-python",
   "name": "python",
   "nbconvert_exporter": "python",
   "pygments_lexer": "ipython3",
   "version": "3.8.10"
  },
  "toc": {
   "base_numbering": 1,
   "nav_menu": {},
   "number_sections": true,
   "sideBar": true,
   "skip_h1_title": false,
   "title_cell": "Table of Contents",
   "title_sidebar": "Contents",
   "toc_cell": false,
   "toc_position": {},
   "toc_section_display": true,
   "toc_window_display": false
  }
 },
 "nbformat": 4,
 "nbformat_minor": 1
}
