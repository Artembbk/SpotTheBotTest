{
 "cells": [
  {
   "cell_type": "code",
   "execution_count": 64,
   "id": "923297e2",
   "metadata": {
    "ExecuteTime": {
     "end_time": "2023-04-07T12:32:50.774791Z",
     "start_time": "2023-04-07T12:32:50.221243Z"
    }
   },
   "outputs": [],
   "source": [
    "import os\n",
    "import shutil\n",
    "\n",
    "path = './wiki/text/'\n",
    "proccessed_path = './wiki/proccessed/'\n",
    "for f in os.listdir(proccessed_path):\n",
    "    os.remove(os.path.join(proccessed_path, f))\n",
    "for (dirpath, dirnames, filenames) in os.walk(path):\n",
    "    for filename in filenames:\n",
    "        shutil.copyfile(os.path.join(path, filename), \n",
    "                        os.path.join(proccessed_path, filename))\n",
    "            \n",
    "        \n",
    "        \n"
   ]
  },
  {
   "cell_type": "code",
   "execution_count": 65,
   "id": "41cf5e78",
   "metadata": {
    "ExecuteTime": {
     "end_time": "2023-04-07T12:32:52.536656Z",
     "start_time": "2023-04-07T12:32:50.777231Z"
    }
   },
   "outputs": [],
   "source": [
    "import re\n",
    "\n",
    "for (dirpath, dirnames, filenames) in os.walk(proccessed_path):\n",
    "    for filename in filenames:\n",
    "        with open(os.path.join(proccessed_path, filename)) as f:\n",
    "            text = f.read()\n",
    "            \n",
    "        text = re.sub(\"<.*>\", \"@@@\", text)\n",
    "        with open(os.path.join(proccessed_path, filename), 'w+') as f:\n",
    "            f.write(text)\n",
    "            "
   ]
  },
  {
   "cell_type": "code",
   "execution_count": 66,
   "id": "d5d3c264",
   "metadata": {
    "ExecuteTime": {
     "end_time": "2023-04-07T12:32:53.998397Z",
     "start_time": "2023-04-07T12:32:52.538748Z"
    }
   },
   "outputs": [],
   "source": [
    "for (dirpath, dirnames, filenames) in os.walk(proccessed_path):\n",
    "    for filename in filenames:\n",
    "        with open(os.path.join(proccessed_path, filename)) as f:\n",
    "            text = f.read()\n",
    "        \n",
    "        os.remove(os.path.join(proccessed_path, filename))\n",
    "        \n",
    "        articles = text.split('@@@')\n",
    "        good_articles = []\n",
    "        for article in articles:\n",
    "            if len(article) > 1000:\n",
    "                good_articles.append(article)\n",
    "        \n",
    "        for i, article in enumerate(good_articles):\n",
    "            with open(os.path.join(proccessed_path, f'split{i}' + filename), 'w+') as f:\n",
    "                f.write(article)\n",
    "        \n",
    "                "
   ]
  },
  {
   "cell_type": "code",
   "execution_count": 67,
   "id": "5c68d59d",
   "metadata": {
    "ExecuteTime": {
     "end_time": "2023-04-07T12:32:54.796136Z",
     "start_time": "2023-04-07T12:32:54.000343Z"
    }
   },
   "outputs": [],
   "source": [
    "proccessed_path = './wiki/proccessed/'\n",
    "all_texts = './texts/'\n",
    "for (dirpath, dirnames, filenames) in os.walk(proccessed_path):\n",
    "    for filename in filenames:\n",
    "        shutil.copyfile(os.path.join(proccessed_path, filename), \n",
    "                        os.path.join(all_texts, filename))"
   ]
  },
  {
   "cell_type": "code",
   "execution_count": null,
   "id": "184621ea",
   "metadata": {},
   "outputs": [],
   "source": []
  }
 ],
 "metadata": {
  "kernelspec": {
   "display_name": "Python 3 (ipykernel)",
   "language": "python",
   "name": "python3"
  },
  "language_info": {
   "codemirror_mode": {
    "name": "ipython",
    "version": 3
   },
   "file_extension": ".py",
   "mimetype": "text/x-python",
   "name": "python",
   "nbconvert_exporter": "python",
   "pygments_lexer": "ipython3",
   "version": "3.8.10"
  },
  "toc": {
   "base_numbering": 1,
   "nav_menu": {},
   "number_sections": true,
   "sideBar": true,
   "skip_h1_title": false,
   "title_cell": "Table of Contents",
   "title_sidebar": "Contents",
   "toc_cell": false,
   "toc_position": {},
   "toc_section_display": true,
   "toc_window_display": false
  }
 },
 "nbformat": 4,
 "nbformat_minor": 5
}
