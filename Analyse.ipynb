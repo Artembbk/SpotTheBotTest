{
 "cells": [
  {
   "cell_type": "code",
   "execution_count": 51,
   "id": "cc57b44e",
   "metadata": {
    "ExecuteTime": {
     "end_time": "2023-05-29T08:06:13.072463Z",
     "start_time": "2023-05-29T08:06:13.058484Z"
    }
   },
   "outputs": [],
   "source": [
    "import pandas as pd\n",
    "\n",
    "file_names = {\n",
    "    'origin': {\n",
    "        'gg': 'en_origin_gg_all.csv',\n",
    "        'inf': 'en_origin_inf_all.csv',\n",
    "        'rng': 'en_origin_rng_all.csv'\n",
    "    },\n",
    "    'generated': {\n",
    "        'gg': 'en_generated_gg_all.csv',\n",
    "        'inf': 'en_generated_inf_all.csv',\n",
    "        'rng': 'en_generated_rng_all.csv'\n",
    "    }\n",
    "}\n",
    "\n",
    "dfs = {}\n",
    "\n",
    "for key1, inner_dict in file_names.items():\n",
    "    dfs[key1] = {}\n",
    "    for key2, file_name in inner_dict.items():\n",
    "        df = pd.read_csv(file_name)\n",
    "        dfs[key1][key2] = df\n"
   ]
  },
  {
   "cell_type": "code",
   "execution_count": 68,
   "id": "1901f285",
   "metadata": {
    "ExecuteTime": {
     "end_time": "2023-05-29T08:26:45.596229Z",
     "start_time": "2023-05-29T08:26:43.907972Z"
    },
    "scrolled": false
   },
   "outputs": [],
   "source": [
    "import matplotlib.pyplot as plt\n",
    "\n",
    "# Указываем порядок расположения ящиков с усами\n",
    "boxplot_order = ['Origin-GG', 'Generated-GG', 'Origin-RNG', 'Generated-RNG', 'Origin-Inf', 'Generated-Inf']\n",
    "\n",
    "# Проходим по признакам и рисуем ящики с усами для каждого датафрейма\n",
    "for feature in features:\n",
    "    fig, ax = plt.subplots(figsize=(8, 8))\n",
    "    data = []\n",
    "    labels = []\n",
    "    colors = ['blue', 'red', 'green']  # Цвета для каждого датафрейма\n",
    "    for boxplot_label in boxplot_order:\n",
    "        key1, key2 = boxplot_label.split('-')\n",
    "        df = dfs[key1][key2]\n",
    "        data.append(df[feature].values)\n",
    "        labels.append(boxplot_label)\n",
    "    ax.boxplot(data, labels=labels, patch_artist=True, boxprops=dict(facecolor='white', color='black'))\n",
    "    ax.set_title(feature)\n",
    "    ax.set_ylabel('Values')\n",
    "    ax.set_xlabel('Dataframes')\n",
    "    ax.set_xticklabels(labels, rotation=45)\n",
    "    for box, color in zip(ax.artists, colors):\n",
    "        box.set_facecolor(color)\n",
    "\n",
    "    # Сохраняем график в формате PDF\n",
    "    plt.savefig(f'{feature}.pdf', format='pdf')\n",
    "\n",
    "    # Сохраняем график в формате JPG\n",
    "    plt.savefig(f'{feature}.jpg', format='jpg', dpi=300)\n",
    "\n",
    "    plt.close()\n"
   ]
  },
  {
   "cell_type": "code",
   "execution_count": 86,
   "id": "fb9a7adf",
   "metadata": {
    "ExecuteTime": {
     "end_time": "2023-05-29T13:43:22.579474Z",
     "start_time": "2023-05-29T13:43:22.571231Z"
    }
   },
   "outputs": [],
   "source": [
    "import pandas as pd\n",
    "\n",
    "dfs_merged = {}\n",
    "\n",
    "for key in ['gg', 'inf', 'rng']:\n",
    "    dfs_merged[key] = pd.concat([dfs['origin'][key], dfs['generated'][key]], axis=0)\n",
    "    dfs_merged[key]['source'] = [1] * len(dfs['origin'][key]) + [0] * len(dfs['generated'][key])\n"
   ]
  },
  {
   "cell_type": "code",
   "execution_count": null,
   "id": "3892ed27",
   "metadata": {},
   "outputs": [],
   "source": []
  },
  {
   "cell_type": "code",
   "execution_count": 110,
   "id": "cb9f9f95",
   "metadata": {
    "ExecuteTime": {
     "end_time": "2023-05-29T14:25:55.730471Z",
     "start_time": "2023-05-29T14:25:55.641284Z"
    }
   },
   "outputs": [],
   "source": [
    "from sklearn.model_selection import train_test_split\n",
    "from sklearn.svm import SVC\n",
    "from sklearn.linear_model import LogisticRegression\n",
    "\n",
    "classifiers = {}\n",
    "\n",
    "for feature_column in dfs_merged['gg'].columns:  # Замените на список выбранных вами признаков\n",
    "    classifiers[feature_column] = {}\n",
    "\n",
    "    for key in ['gg', 'inf', 'rng']:\n",
    "        df = pd.concat([dfs['origin'][key], dfs['generated'][key]], axis=0)\n",
    "        X = dfs_merged[key][[feature_column]]\n",
    "        y = dfs_merged[key]['source']\n",
    "\n",
    "        X_train, X_test, y_train, y_test = train_test_split(X, y, test_size=0.2, random_state=42)\n",
    "\n",
    "        classifier = SVC()\n",
    "        classifier.fit(X_train, y_train)\n",
    "\n",
    "        classifiers[feature_column][key] = classifier\n",
    "        \n",
    "        accuracy = classifier.score(X_test, y_test)"
   ]
  },
  {
   "cell_type": "code",
   "execution_count": 113,
   "id": "d2a5fc12",
   "metadata": {
    "ExecuteTime": {
     "end_time": "2023-05-29T14:27:11.942161Z",
     "start_time": "2023-05-29T14:27:11.893818Z"
    }
   },
   "outputs": [],
   "source": [
    "import pandas as pd\n",
    "\n",
    "accuracy_results = []\n",
    "\n",
    "for feature_column, classifier_dict in classifiers.items():\n",
    "    for key, classifier in classifier_dict.items():\n",
    "        X_test = dfs_merged[key][[feature_column]]\n",
    "        y_test = dfs_merged[key]['source']\n",
    "        \n",
    "        accuracy = classifier.score(X_test, y_test)\n",
    "        \n",
    "        accuracy_results.append({\n",
    "            'feature_column': feature_column,\n",
    "            'graph': key,\n",
    "            'accuracy': accuracy\n",
    "        })\n",
    "\n",
    "results_df = pd.DataFrame(accuracy_results)\n",
    "accuracy_df = results_df.pivot(index='graph', columns='feature_column', values='accuracy')"
   ]
  },
  {
   "cell_type": "code",
   "execution_count": 114,
   "id": "c0140492",
   "metadata": {
    "ExecuteTime": {
     "end_time": "2023-05-29T14:27:12.329238Z",
     "start_time": "2023-05-29T14:27:12.314923Z"
    }
   },
   "outputs": [
    {
     "data": {
      "text/html": [
       "<div>\n",
       "<style scoped>\n",
       "    .dataframe tbody tr th:only-of-type {\n",
       "        vertical-align: middle;\n",
       "    }\n",
       "\n",
       "    .dataframe tbody tr th {\n",
       "        vertical-align: top;\n",
       "    }\n",
       "\n",
       "    .dataframe thead th {\n",
       "        text-align: right;\n",
       "    }\n",
       "</style>\n",
       "<table border=\"1\" class=\"dataframe\">\n",
       "  <thead>\n",
       "    <tr style=\"text-align: right;\">\n",
       "      <th>feature_column</th>\n",
       "      <th>average_shortest_path_length</th>\n",
       "      <th>betweenness_centrality</th>\n",
       "      <th>closeness_centrality</th>\n",
       "      <th>diameter</th>\n",
       "      <th>edge_betweenness_centrality</th>\n",
       "      <th>load_centrality</th>\n",
       "      <th>radius</th>\n",
       "      <th>source</th>\n",
       "    </tr>\n",
       "    <tr>\n",
       "      <th>graph</th>\n",
       "      <th></th>\n",
       "      <th></th>\n",
       "      <th></th>\n",
       "      <th></th>\n",
       "      <th></th>\n",
       "      <th></th>\n",
       "      <th></th>\n",
       "      <th></th>\n",
       "    </tr>\n",
       "  </thead>\n",
       "  <tbody>\n",
       "    <tr>\n",
       "      <th>gg</th>\n",
       "      <td>0.772727</td>\n",
       "      <td>1.000000</td>\n",
       "      <td>0.801136</td>\n",
       "      <td>0.636364</td>\n",
       "      <td>1.000000</td>\n",
       "      <td>1.000000</td>\n",
       "      <td>0.636364</td>\n",
       "      <td>1.0</td>\n",
       "    </tr>\n",
       "    <tr>\n",
       "      <th>inf</th>\n",
       "      <td>0.761364</td>\n",
       "      <td>0.965909</td>\n",
       "      <td>0.727273</td>\n",
       "      <td>0.823864</td>\n",
       "      <td>0.977273</td>\n",
       "      <td>0.977273</td>\n",
       "      <td>0.823864</td>\n",
       "      <td>1.0</td>\n",
       "    </tr>\n",
       "    <tr>\n",
       "      <th>rng</th>\n",
       "      <td>0.914773</td>\n",
       "      <td>0.710227</td>\n",
       "      <td>0.693182</td>\n",
       "      <td>0.914773</td>\n",
       "      <td>0.636364</td>\n",
       "      <td>0.636364</td>\n",
       "      <td>0.914773</td>\n",
       "      <td>1.0</td>\n",
       "    </tr>\n",
       "  </tbody>\n",
       "</table>\n",
       "</div>"
      ],
      "text/plain": [
       "feature_column  average_shortest_path_length  betweenness_centrality  \\\n",
       "graph                                                                  \n",
       "gg                                  0.772727                1.000000   \n",
       "inf                                 0.761364                0.965909   \n",
       "rng                                 0.914773                0.710227   \n",
       "\n",
       "feature_column  closeness_centrality  diameter  edge_betweenness_centrality  \\\n",
       "graph                                                                         \n",
       "gg                          0.801136  0.636364                     1.000000   \n",
       "inf                         0.727273  0.823864                     0.977273   \n",
       "rng                         0.693182  0.914773                     0.636364   \n",
       "\n",
       "feature_column  load_centrality    radius  source  \n",
       "graph                                              \n",
       "gg                     1.000000  0.636364     1.0  \n",
       "inf                    0.977273  0.823864     1.0  \n",
       "rng                    0.636364  0.914773     1.0  "
      ]
     },
     "execution_count": 114,
     "metadata": {},
     "output_type": "execute_result"
    }
   ],
   "source": [
    "accuracy_df"
   ]
  },
  {
   "cell_type": "code",
   "execution_count": null,
   "id": "31b8c3a9",
   "metadata": {},
   "outputs": [],
   "source": []
  },
  {
   "cell_type": "code",
   "execution_count": null,
   "id": "6a1485d0",
   "metadata": {},
   "outputs": [],
   "source": []
  }
 ],
 "metadata": {
  "kernelspec": {
   "display_name": "Python 3 (ipykernel)",
   "language": "python",
   "name": "python3"
  },
  "language_info": {
   "codemirror_mode": {
    "name": "ipython",
    "version": 3
   },
   "file_extension": ".py",
   "mimetype": "text/x-python",
   "name": "python",
   "nbconvert_exporter": "python",
   "pygments_lexer": "ipython3",
   "version": "3.8.10"
  },
  "toc": {
   "base_numbering": 1,
   "nav_menu": {},
   "number_sections": true,
   "sideBar": true,
   "skip_h1_title": false,
   "title_cell": "Table of Contents",
   "title_sidebar": "Contents",
   "toc_cell": false,
   "toc_position": {},
   "toc_section_display": true,
   "toc_window_display": false
  }
 },
 "nbformat": 4,
 "nbformat_minor": 5
}
