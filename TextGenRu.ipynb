{
 "cells": [
  {
   "cell_type": "markdown",
   "metadata": {
    "id": "J3v-AqBP25Gk"
   },
   "source": [
    "# Char-based text generation with LSTM"
   ]
  },
  {
   "cell_type": "code",
   "execution_count": 1,
   "metadata": {
    "ExecuteTime": {
     "end_time": "2023-05-17T22:14:35.355042Z",
     "start_time": "2023-05-17T22:14:33.882322Z"
    },
    "id": "Lr1W8QZo25Gr"
   },
   "outputs": [],
   "source": [
    "from collections import Counter\n",
    "\n",
    "import torch\n",
    "import torch.nn as nn\n",
    "import torch.nn.functional as F\n",
    "import numpy as np"
   ]
  },
  {
   "cell_type": "code",
   "execution_count": null,
   "metadata": {
    "ExecuteTime": {
     "start_time": "2023-05-17T22:14:34.293Z"
    },
    "colab": {
     "base_uri": "https://localhost:8080/"
    },
    "id": "NZw0dCxY25Gr",
    "outputId": "d3c6da63-30ad-454c-eec0-200f03f3e94f"
   },
   "outputs": [
    {
     "name": "stdout",
     "output_type": "stream",
     "text": [
      "[' ', 'о', 'т', 'а', 'е', 'и', 'н', 'с', 'ь', 'в', 'р', 'к', 'л', 'д', 'п', 'й', 'у', 'ы', '1', 'м', 'з', 'я', 'б', 'ч', 'г', 'ж', '0', 'ш', 'х', 'e', 'ц', 't', 'a', 'щ', 'i', 'o', 'n', 's', 'h', 'r', '-', 'ю', 'э', 'l', 'd', 'ъ', 'ф', 'u', 'm', 'c', 'f', 'w', '2', 'g', 'y', 'p', 'b', 'v', 'ѣ', '3', 'k', 'x', 'і', '.', 'j', 'q', '&', 'z', '№', '4', '%', 'é', '}', '—', '–', '́', '\\n', 'ò', ',', 'á', 'è', 'í', 'ó', '‑', '#', 'ê', '‹', 'à', '’', '°', '_', '›', '{', '=', '‘', 'ô', 'ü', 'ä', '+', 'ç', '*', 'ï', 'ú', 'â', 'ö', 'α', 'î', '/', 'ό', 'ν', 'ο', 'ѳ', 'ε', 'ι', 'τ', 'û', '@', '~', 'ù', 'œ', 'π', 'æ', 'ρ', 'ý', 'ς', 'κ', '·', 'μ', 'σ', '̀', 'δ', 'ë', 'ł', 'ί', 'λ', 'γ', '?', 'ω', '!', 'њ', 'ę', 'υ', 'η', 'ż', '§', '½', 'χ', 'ś', 'ἐ', '·', 'ѵ', 'θ', 'ß', 'ą', 'ὐ', 'є', '‐', 'ỳ', 'ξ', 'φ', 'ć', 'ά', 'ή', 'ὴ', 'ύ', 'ἀ', 'β', 'ῦ', 'ὶ', 'ό', 'ἰ', 'ὸ', 'č', '\\\\', 'ź', '˚', 'έ', '\\xad', '^', ']', 'ἴ', 'ὰ', 'ί', 'ń', '´', 'ϑ', 'ῖ', 'ώ', '$', 'ϰ', '€', 'ἱ', '¨', '®', 'ϯ', 'ζ', 'ř', '¾', 'ñ', '̀', 'ø', 'ě', 'ὑ', '•', 'ž', 'å', 'ὲ', 'ᾶ', 'ђ', '∞', 'ῆ', 'ᾳ', 'ά', '…', 'ӏ', '′', 'š', 'ψ', 'ǯ', 'ů', 'ἁ', 'έ', 'ּ', 'ῶ', '×', '¼', '˃', '¬', 'ύ', 'ἠ', '̆', 'ģ', '→', '́', 'ΰ', 'ì', 'õ', 'ҍ', '\\uf00f', 'ћ', 'ќ', 'ἄ', 'ῑ', 'ῷ', 'ὕ', 'ἕ', 'ὔ', 'ώ', 'ῠ', 'ὀ', 'ת', 'ו', 'ֹ', 'ר', 'ָ', 'ה', 'ˊ', 'ϐ', 'ὄ', 'ű', '£', 'ã', '⅓', 'ŭ', 'ȃ', '†', '±', 'ѕ', 'ÿ', '[', '−', 'ґ', 'ἅ', '⅔', '«', '⅜', '↵', 'ĕ', 'ἤ', 'º', '←', '∫', '©', 'ї', 'ὅ', 'ἡ', 'ӓ', '²']\n"
     ]
    }
   ],
   "source": [
    "corpus_path = 'corpus_ru.txt'\n",
    "with open(corpus_path) as f:\n",
    "    text = f.read()\n",
    "\n",
    "def text_to_seq(text_sample):\n",
    "    char_counts = Counter(text_sample)\n",
    "    char_counts = sorted(char_counts.items(), key = lambda x: x[1], reverse=True)\n",
    " \n",
    "    sorted_chars = [char for char, _ in char_counts]\n",
    "    print(sorted_chars)\n",
    "    char_to_idx = {char: index for index, char in enumerate(sorted_chars)}\n",
    "    idx_to_char = {v: k for k, v in char_to_idx.items()}\n",
    "    sequence = np.array([char_to_idx[char] for char in text_sample])\n",
    "    \n",
    "    return sequence, char_to_idx, idx_to_char\n",
    " \n",
    "sequence, char_to_idx, idx_to_char = text_to_seq(text)"
   ]
  },
  {
   "cell_type": "code",
   "execution_count": null,
   "metadata": {
    "ExecuteTime": {
     "start_time": "2023-05-17T22:14:34.576Z"
    },
    "id": "WbP6mNQd25Gs"
   },
   "outputs": [],
   "source": [
    "SEQ_LEN = 256\n",
    "BATCH_SIZE = 16\n",
    "\n",
    "def get_batch(sequence):\n",
    "    trains = []\n",
    "    targets = []\n",
    "    for _ in range(BATCH_SIZE):\n",
    "        batch_start = np.random.randint(0, len(sequence) - SEQ_LEN)\n",
    "        chunk = sequence[batch_start: batch_start + SEQ_LEN]\n",
    "        train = torch.LongTensor(chunk[:-1]).view(-1, 1)\n",
    "        target = torch.LongTensor(chunk[1:]).view(-1, 1)\n",
    "        trains.append(train)\n",
    "        targets.append(target)\n",
    "    return torch.stack(trains, dim=0), torch.stack(targets, dim=0)"
   ]
  },
  {
   "cell_type": "code",
   "execution_count": null,
   "metadata": {
    "ExecuteTime": {
     "start_time": "2023-05-17T22:14:34.847Z"
    },
    "id": "5Sgommwm25Gs"
   },
   "outputs": [],
   "source": [
    "def evaluate(model, char_to_idx, idx_to_char, start_text=' ', prediction_len=200, temp=0.3):\n",
    "    hidden = model.init_hidden()\n",
    "    idx_input = [char_to_idx[char] for char in start_text]\n",
    "    train = torch.LongTensor(idx_input).view(-1, 1, 1).to(device)\n",
    "    predicted_text = start_text\n",
    "    \n",
    "    _, hidden = model(train, hidden)\n",
    "        \n",
    "    inp = train[-1].view(-1, 1, 1)\n",
    "    \n",
    "    for i in range(prediction_len):\n",
    "        output, hidden = model(inp.to(device), hidden)\n",
    "        output_logits = output.cpu().data.view(-1)\n",
    "        p_next = F.softmax(output_logits / temp, dim=-1).detach().cpu().data.numpy()        \n",
    "        top_index = np.random.choice(len(char_to_idx), p=p_next)\n",
    "        inp = torch.LongTensor([top_index]).view(-1, 1, 1).to(device)\n",
    "        predicted_char = idx_to_char[top_index]\n",
    "        predicted_text += predicted_char\n",
    "    \n",
    "    return predicted_text"
   ]
  },
  {
   "cell_type": "code",
   "execution_count": null,
   "metadata": {
    "ExecuteTime": {
     "start_time": "2023-05-17T22:14:35.109Z"
    },
    "id": "NUeLbv2625Gt"
   },
   "outputs": [],
   "source": [
    "class TextRNN(nn.Module):\n",
    "    \n",
    "    def __init__(self, input_size, hidden_size, embedding_size, n_layers=1):\n",
    "        super(TextRNN, self).__init__()\n",
    "        \n",
    "        self.input_size = input_size\n",
    "        self.hidden_size = hidden_size\n",
    "        self.embedding_size = embedding_size\n",
    "        self.n_layers = n_layers\n",
    "\n",
    "        self.encoder = nn.Embedding(self.input_size, self.embedding_size)\n",
    "        self.lstm = nn.LSTM(self.embedding_size, self.hidden_size, self.n_layers)\n",
    "        self.dropout = nn.Dropout(0.2)\n",
    "        self.fc = nn.Linear(self.hidden_size, self.input_size)\n",
    "        \n",
    "    def forward(self, x, hidden):\n",
    "        x = self.encoder(x).squeeze(2)\n",
    "        out, (ht1, ct1) = self.lstm(x, hidden)\n",
    "        out = self.dropout(out)\n",
    "        x = self.fc(out)\n",
    "        return x, (ht1, ct1)\n",
    "    \n",
    "    def init_hidden(self, batch_size=1):\n",
    "        return (torch.zeros(self.n_layers, batch_size, self.hidden_size, requires_grad=True).to(device),\n",
    "               torch.zeros(self.n_layers, batch_size, self.hidden_size, requires_grad=True).to(device))"
   ]
  },
  {
   "cell_type": "code",
   "execution_count": null,
   "metadata": {
    "ExecuteTime": {
     "start_time": "2023-05-17T22:14:35.348Z"
    },
    "colab": {
     "base_uri": "https://localhost:8080/"
    },
    "id": "KZh3XgJ025Gt",
    "outputId": "25330e35-aaed-4928-a785-1d2df87cd2e8"
   },
   "outputs": [],
   "source": [
    "device = torch.device('cuda') if torch.cuda.is_available() else torch.device('cpu')\n",
    "model = TextRNN(input_size=len(idx_to_char), hidden_size=128, embedding_size=128, n_layers=2)\n",
    "model.to(device)\n",
    "\n",
    "criterion = nn.CrossEntropyLoss()\n",
    "optimizer = torch.optim.Adam(model.parameters(), lr=1e-2, amsgrad=True)\n",
    "scheduler = torch.optim.lr_scheduler.ReduceLROnPlateau(\n",
    "    optimizer, \n",
    "    patience=5, \n",
    "    verbose=True, \n",
    "    factor=0.5\n",
    ")\n",
    "\n",
    "n_epochs = 10000\n",
    "loss_avg = []\n",
    "\n",
    "for epoch in range(n_epochs):\n",
    "    model.train()\n",
    "    train, target = get_batch(sequence)\n",
    "    train = train.permute(1, 0, 2).to(device)\n",
    "    target = target.permute(1, 0, 2).to(device)\n",
    "    hidden = model.init_hidden(BATCH_SIZE)\n",
    "\n",
    "    output, hidden = model(train, hidden)\n",
    "    loss = criterion(output.permute(1, 2, 0), target.squeeze(-1).permute(1, 0))\n",
    "    \n",
    "    loss.backward()\n",
    "    optimizer.step()\n",
    "    optimizer.zero_grad()\n",
    "    \n",
    "    loss_avg.append(loss.item())\n",
    "    if len(loss_avg) >= 50:\n",
    "        mean_loss = np.mean(loss_avg)\n",
    "        print(f'Loss: {mean_loss}')\n",
    "        scheduler.step(mean_loss)\n",
    "        loss_avg = []\n",
    "        model.eval()\n",
    "        predicted_text = evaluate(model, char_to_idx, idx_to_char)\n",
    "        print(predicted_text)"
   ]
  },
  {
   "cell_type": "code",
   "execution_count": null,
   "metadata": {
    "ExecuteTime": {
     "start_time": "2023-05-17T22:14:35.635Z"
    }
   },
   "outputs": [],
   "source": [
    "with open(corpus_path) as f:\n",
    "    texts = f.readlines()\n",
    "    \n",
    "generated_texts = []\n",
    "for text in texts:\n",
    "    splitted_text = text.split()\n",
    "    generated_text = ''\n",
    "    for i, word in enumerate(splitted_text):\n",
    "        if i % 200 == 0:\n",
    "            generated_text += evaluate(model, char_to_idx, idx_to_char, temp=0.3, prediction_len=200, start_text=word)\n",
    "        \n",
    "    generated_texts.append(generated_text)\n",
    "    \n",
    "generated_path = 'generated_corpus_ru.txt'\n",
    "with open(generated_path, 'w') as f:\n",
    "    for generated_text in generated_texts:\n",
    "        f.write(generated_text + '\\n') "
   ]
  },
  {
   "cell_type": "code",
   "execution_count": null,
   "metadata": {
    "id": "avw9znl1BRsv"
   },
   "outputs": [],
   "source": []
  }
 ],
 "metadata": {
  "colab": {
   "provenance": []
  },
  "kernelspec": {
   "display_name": "Python 3 (ipykernel)",
   "language": "python",
   "name": "python3"
  },
  "language_info": {
   "codemirror_mode": {
    "name": "ipython",
    "version": 3
   },
   "file_extension": ".py",
   "mimetype": "text/x-python",
   "name": "python",
   "nbconvert_exporter": "python",
   "pygments_lexer": "ipython3",
   "version": "3.8.10"
  },
  "toc": {
   "base_numbering": 1,
   "nav_menu": {},
   "number_sections": true,
   "sideBar": true,
   "skip_h1_title": false,
   "title_cell": "Table of Contents",
   "title_sidebar": "Contents",
   "toc_cell": false,
   "toc_position": {},
   "toc_section_display": true,
   "toc_window_display": false
  }
 },
 "nbformat": 4,
 "nbformat_minor": 1
}
