{
 "cells": [
  {
   "cell_type": "code",
   "execution_count": 1,
   "id": "b31ebe55",
   "metadata": {
    "ExecuteTime": {
     "end_time": "2023-05-17T23:32:53.400173Z",
     "start_time": "2023-05-17T23:32:53.396646Z"
    }
   },
   "outputs": [],
   "source": [
    "import os"
   ]
  },
  {
   "cell_type": "code",
   "execution_count": 4,
   "id": "b53435e1",
   "metadata": {
    "ExecuteTime": {
     "end_time": "2023-05-17T23:32:59.714044Z",
     "start_time": "2023-05-17T23:32:58.203114Z"
    }
   },
   "outputs": [],
   "source": [
    "path = 'txt_texts'\n",
    "texts_num = 0\n",
    "symbols_num = 0\n",
    "words_num = 0\n",
    "for filename in os.listdir(path):\n",
    "    texts_num += 1\n",
    "    with open(os.path.join(path, filename)) as f:\n",
    "        text = f.read()\n",
    "        \n",
    "    symbols_num += len(text)\n",
    "    words_num += len(text.split())\n",
    "    \n",
    "average_symbols_num = symbols_num / texts_num\n",
    "average_words_num = words_num / texts_num"
   ]
  },
  {
   "cell_type": "code",
   "execution_count": 5,
   "id": "692e4802",
   "metadata": {
    "ExecuteTime": {
     "end_time": "2023-05-17T23:32:59.721000Z",
     "start_time": "2023-05-17T23:32:59.716174Z"
    }
   },
   "outputs": [
    {
     "name": "stdout",
     "output_type": "stream",
     "text": [
      "Количество текстов: 20152\n",
      "Среднее количество символов на текст: 2301.901746724891\n",
      "Среднее количество слов на текст: 323.5803394204049\n"
     ]
    }
   ],
   "source": [
    "print('Количество текстов:', texts_num)\n",
    "print('Среднее количество символов на текст:', average_symbols_num)\n",
    "print('Среднее количество слов на текст:', average_words_num)"
   ]
  },
  {
   "cell_type": "code",
   "execution_count": null,
   "id": "8b420202",
   "metadata": {},
   "outputs": [],
   "source": []
  }
 ],
 "metadata": {
  "kernelspec": {
   "display_name": "Python 3 (ipykernel)",
   "language": "python",
   "name": "python3"
  },
  "language_info": {
   "codemirror_mode": {
    "name": "ipython",
    "version": 3
   },
   "file_extension": ".py",
   "mimetype": "text/x-python",
   "name": "python",
   "nbconvert_exporter": "python",
   "pygments_lexer": "ipython3",
   "version": "3.8.10"
  },
  "toc": {
   "base_numbering": 1,
   "nav_menu": {},
   "number_sections": true,
   "sideBar": true,
   "skip_h1_title": false,
   "title_cell": "Table of Contents",
   "title_sidebar": "Contents",
   "toc_cell": false,
   "toc_position": {},
   "toc_section_display": true,
   "toc_window_display": false
  }
 },
 "nbformat": 4,
 "nbformat_minor": 5
}
