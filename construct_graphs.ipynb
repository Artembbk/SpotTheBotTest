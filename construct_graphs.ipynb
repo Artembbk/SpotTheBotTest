{
 "cells": [
  {
   "cell_type": "markdown",
   "id": "b88fdf0a",
   "metadata": {
    "toc": true
   },
   "source": [
    "<h1>Оглавление<span class=\"tocSkip\"></span></h1>\n",
    "<div class=\"toc\"><ul class=\"toc-item\"></ul></div>"
   ]
  },
  {
   "cell_type": "code",
   "execution_count": 1,
   "id": "706a4617",
   "metadata": {
    "ExecuteTime": {
     "end_time": "2023-05-19T22:42:45.270521Z",
     "start_time": "2023-05-19T22:42:43.610219Z"
    }
   },
   "outputs": [],
   "source": [
    "from graphs import *\n",
    "%load_ext autoreload\n",
    "# %autoreload 2"
   ]
  },
  {
   "cell_type": "code",
   "execution_count": 2,
   "id": "19aad41d",
   "metadata": {
    "ExecuteTime": {
     "end_time": "2023-05-19T22:42:45.467713Z",
     "start_time": "2023-05-19T22:42:45.272072Z"
    }
   },
   "outputs": [],
   "source": [
    "word2vec = np.load('english_newlit_SVD_dict.npy', allow_pickle=True).item()"
   ]
  },
  {
   "cell_type": "code",
   "execution_count": null,
   "id": "f8d2e2ac",
   "metadata": {
    "ExecuteTime": {
     "end_time": "2023-05-15T10:20:37.309058Z",
     "start_time": "2023-05-15T10:19:55.337471Z"
    },
    "scrolled": false
   },
   "outputs": [],
   "source": [
    "graph = EpsilonGraph.from_word2vec(word2vec, eps=1e-2, num_cpus=12)\n",
    "save(graph, 'eps_en.pickle')"
   ]
  },
  {
   "cell_type": "code",
   "execution_count": null,
   "id": "74b58515",
   "metadata": {
    "ExecuteTime": {
     "end_time": "2023-05-11T10:01:55.518969Z",
     "start_time": "2023-05-11T09:59:13.864753Z"
    },
    "scrolled": false
   },
   "outputs": [],
   "source": [
    "graph = GabrielGraph.from_word2vec(word2vec, num_cpus=12)\n",
    "save(graph, 'gg_en.pickle')"
   ]
  },
  {
   "cell_type": "code",
   "execution_count": null,
   "id": "7d05609a",
   "metadata": {
    "ExecuteTime": {
     "end_time": "2023-05-01T20:51:35.963487Z",
     "start_time": "2023-05-01T20:51:21.717408Z"
    }
   },
   "outputs": [],
   "source": [
    "graph = InfluenceGraph.from_word2vec(word2vec)\n",
    "save(graph, 'inf_en.pickle')"
   ]
  },
  {
   "cell_type": "code",
   "execution_count": null,
   "id": "db488ef9",
   "metadata": {
    "ExecuteTime": {
     "end_time": "2023-05-01T20:56:07.277850Z",
     "start_time": "2023-05-01T20:55:49.284295Z"
    }
   },
   "outputs": [],
   "source": [
    "graph = KNNGraph.from_word2vec(word2vec, 3)\n",
    "save(graph, 'knn_en.pickle')"
   ]
  },
  {
   "cell_type": "code",
   "execution_count": 3,
   "id": "425b26ba",
   "metadata": {
    "ExecuteTime": {
     "end_time": "2023-05-19T23:12:16.977995Z",
     "start_time": "2023-05-19T22:42:46.875761Z"
    }
   },
   "outputs": [
    {
     "name": "stderr",
     "output_type": "stream",
     "text": [
      " 11%|███▊                               | 10643/96543 [29:05<3:54:47,  6.10it/s]\n"
     ]
    },
    {
     "ename": "KeyboardInterrupt",
     "evalue": "",
     "output_type": "error",
     "traceback": [
      "\u001b[0;31m---------------------------------------------------------------------------\u001b[0m",
      "\u001b[0;31mKeyboardInterrupt\u001b[0m                         Traceback (most recent call last)",
      "Input \u001b[0;32mIn [3]\u001b[0m, in \u001b[0;36m<cell line: 2>\u001b[0;34m()\u001b[0m\n\u001b[1;32m      1\u001b[0m gabriel_graph \u001b[38;5;241m=\u001b[39m read(\u001b[38;5;124m'\u001b[39m\u001b[38;5;124mgg_en.pickle\u001b[39m\u001b[38;5;124m'\u001b[39m)\n\u001b[0;32m----> 2\u001b[0m graph \u001b[38;5;241m=\u001b[39m \u001b[43mRNGGraph\u001b[49m\u001b[38;5;241;43m.\u001b[39;49m\u001b[43mfrom_gabriel_graph\u001b[49m\u001b[43m(\u001b[49m\u001b[43mgabriel_graph\u001b[49m\u001b[43m,\u001b[49m\u001b[43m \u001b[49m\u001b[43mk\u001b[49m\u001b[38;5;241;43m=\u001b[39;49m\u001b[38;5;241;43m16\u001b[39;49m\u001b[43m)\u001b[49m\n\u001b[1;32m      3\u001b[0m save(graph, \u001b[38;5;124m'\u001b[39m\u001b[38;5;124mrng_en.pickle\u001b[39m\u001b[38;5;124m'\u001b[39m)\n",
      "File \u001b[0;32m~/SpotTheBot/data/en/graphs.py:442\u001b[0m, in \u001b[0;36mRNGGraph.from_gabriel_graph\u001b[0;34m(grp, gabriel_graph, k)\u001b[0m\n\u001b[1;32m    440\u001b[0m graph\u001b[38;5;241m.\u001b[39mnum2word \u001b[38;5;241m=\u001b[39m gabriel_graph\u001b[38;5;241m.\u001b[39mnum2word\n\u001b[1;32m    441\u001b[0m graph\u001b[38;5;241m.\u001b[39mnrst_nbrs \u001b[38;5;241m=\u001b[39m gabriel_graph\u001b[38;5;241m.\u001b[39mnrst_nbrs\n\u001b[0;32m--> 442\u001b[0m \u001b[43mgraph\u001b[49m\u001b[38;5;241;43m.\u001b[39;49m\u001b[43mcreate_RNG_Graph\u001b[49m\u001b[43m(\u001b[49m\u001b[43m)\u001b[49m\n\u001b[1;32m    443\u001b[0m \u001b[38;5;28;01mreturn\u001b[39;00m graph\n",
      "File \u001b[0;32m~/SpotTheBot/data/en/graphs.py:454\u001b[0m, in \u001b[0;36mRNGGraph.create_RNG_Graph\u001b[0;34m(self)\u001b[0m\n\u001b[1;32m    452\u001b[0m \u001b[38;5;28;01mfor\u001b[39;00m other_word \u001b[38;5;129;01min\u001b[39;00m chain(\u001b[38;5;28mself\u001b[39m\u001b[38;5;241m.\u001b[39mnrst_nbrs[word1], \u001b[38;5;28mself\u001b[39m\u001b[38;5;241m.\u001b[39mnrst_nbrs[word2]):\n\u001b[1;32m    453\u001b[0m     other_node \u001b[38;5;241m=\u001b[39m \u001b[38;5;28mself\u001b[39m\u001b[38;5;241m.\u001b[39mvertices[other_word]\n\u001b[0;32m--> 454\u001b[0m     dist \u001b[38;5;241m=\u001b[39m \u001b[43mnode1\u001b[49m\u001b[38;5;241;43m.\u001b[39;49m\u001b[43mdist_to\u001b[49m\u001b[43m(\u001b[49m\u001b[43mnode2\u001b[49m\u001b[43m)\u001b[49m\n\u001b[1;32m    455\u001b[0m     \u001b[38;5;28;01mif\u001b[39;00m \u001b[38;5;28mmax\u001b[39m(node1\u001b[38;5;241m.\u001b[39mdist_to(other_node), node2\u001b[38;5;241m.\u001b[39mdist_to(other_node)) \u001b[38;5;241m<\u001b[39m dist:\n\u001b[1;32m    456\u001b[0m         edges_to_remove\u001b[38;5;241m.\u001b[39mappend((word1, word2))\n",
      "File \u001b[0;32m~/SpotTheBot/data/en/graphs.py:47\u001b[0m, in \u001b[0;36mNode.dist_to\u001b[0;34m(self, other, dist_func)\u001b[0m\n\u001b[1;32m     46\u001b[0m \u001b[38;5;28;01mdef\u001b[39;00m \u001b[38;5;21mdist_to\u001b[39m(\u001b[38;5;28mself\u001b[39m, other: Node, dist_func\u001b[38;5;241m=\u001b[39meuclidean):\n\u001b[0;32m---> 47\u001b[0m     \u001b[38;5;28;01mreturn\u001b[39;00m \u001b[43mdist_func\u001b[49m\u001b[43m(\u001b[49m\u001b[38;5;28;43mself\u001b[39;49m\u001b[38;5;241;43m.\u001b[39;49m\u001b[43mvector\u001b[49m\u001b[43m,\u001b[49m\u001b[43m \u001b[49m\u001b[43mother\u001b[49m\u001b[38;5;241;43m.\u001b[39;49m\u001b[43mvector\u001b[49m\u001b[43m)\u001b[49m\n",
      "File \u001b[0;32m~/.local/lib/python3.8/site-packages/scipy/spatial/distance.py:518\u001b[0m, in \u001b[0;36meuclidean\u001b[0;34m(u, v, w)\u001b[0m\n\u001b[1;32m    482\u001b[0m \u001b[38;5;28;01mdef\u001b[39;00m \u001b[38;5;21meuclidean\u001b[39m(u, v, w\u001b[38;5;241m=\u001b[39m\u001b[38;5;28;01mNone\u001b[39;00m):\n\u001b[1;32m    483\u001b[0m     \u001b[38;5;124;03m\"\"\"\u001b[39;00m\n\u001b[1;32m    484\u001b[0m \u001b[38;5;124;03m    Computes the Euclidean distance between two 1-D arrays.\u001b[39;00m\n\u001b[1;32m    485\u001b[0m \n\u001b[0;32m   (...)\u001b[0m\n\u001b[1;32m    516\u001b[0m \n\u001b[1;32m    517\u001b[0m \u001b[38;5;124;03m    \"\"\"\u001b[39;00m\n\u001b[0;32m--> 518\u001b[0m     \u001b[38;5;28;01mreturn\u001b[39;00m \u001b[43mminkowski\u001b[49m\u001b[43m(\u001b[49m\u001b[43mu\u001b[49m\u001b[43m,\u001b[49m\u001b[43m \u001b[49m\u001b[43mv\u001b[49m\u001b[43m,\u001b[49m\u001b[43m \u001b[49m\u001b[43mp\u001b[49m\u001b[38;5;241;43m=\u001b[39;49m\u001b[38;5;241;43m2\u001b[39;49m\u001b[43m,\u001b[49m\u001b[43m \u001b[49m\u001b[43mw\u001b[49m\u001b[38;5;241;43m=\u001b[39;49m\u001b[43mw\u001b[49m\u001b[43m)\u001b[49m\n",
      "File \u001b[0;32m~/.local/lib/python3.8/site-packages/scipy/spatial/distance.py:478\u001b[0m, in \u001b[0;36mminkowski\u001b[0;34m(u, v, p, w)\u001b[0m\n\u001b[1;32m    476\u001b[0m         root_w \u001b[38;5;241m=\u001b[39m np\u001b[38;5;241m.\u001b[39mpower(w, \u001b[38;5;241m1\u001b[39m\u001b[38;5;241m/\u001b[39mp)\n\u001b[1;32m    477\u001b[0m     u_v \u001b[38;5;241m=\u001b[39m root_w \u001b[38;5;241m*\u001b[39m u_v\n\u001b[0;32m--> 478\u001b[0m dist \u001b[38;5;241m=\u001b[39m \u001b[43mnorm\u001b[49m\u001b[43m(\u001b[49m\u001b[43mu_v\u001b[49m\u001b[43m,\u001b[49m\u001b[43m \u001b[49m\u001b[38;5;28;43mord\u001b[39;49m\u001b[38;5;241;43m=\u001b[39;49m\u001b[43mp\u001b[49m\u001b[43m)\u001b[49m\n\u001b[1;32m    479\u001b[0m \u001b[38;5;28;01mreturn\u001b[39;00m dist\n",
      "File \u001b[0;32m~/.local/lib/python3.8/site-packages/scipy/linalg/_misc.py:145\u001b[0m, in \u001b[0;36mnorm\u001b[0;34m(a, ord, axis, keepdims, check_finite)\u001b[0m\n\u001b[1;32m    143\u001b[0m \u001b[38;5;66;03m# Differs from numpy only in non-finite handling and the use of blas.\u001b[39;00m\n\u001b[1;32m    144\u001b[0m \u001b[38;5;28;01mif\u001b[39;00m check_finite:\n\u001b[0;32m--> 145\u001b[0m     a \u001b[38;5;241m=\u001b[39m \u001b[43mnp\u001b[49m\u001b[38;5;241;43m.\u001b[39;49m\u001b[43masarray_chkfinite\u001b[49m\u001b[43m(\u001b[49m\u001b[43ma\u001b[49m\u001b[43m)\u001b[49m\n\u001b[1;32m    146\u001b[0m \u001b[38;5;28;01melse\u001b[39;00m:\n\u001b[1;32m    147\u001b[0m     a \u001b[38;5;241m=\u001b[39m np\u001b[38;5;241m.\u001b[39masarray(a)\n",
      "File \u001b[0;32m~/.local/lib/python3.8/site-packages/numpy/lib/function_base.py:625\u001b[0m, in \u001b[0;36masarray_chkfinite\u001b[0;34m(a, dtype, order)\u001b[0m\n\u001b[1;32m    561\u001b[0m \u001b[38;5;129m@set_module\u001b[39m(\u001b[38;5;124m'\u001b[39m\u001b[38;5;124mnumpy\u001b[39m\u001b[38;5;124m'\u001b[39m)\n\u001b[1;32m    562\u001b[0m \u001b[38;5;28;01mdef\u001b[39;00m \u001b[38;5;21masarray_chkfinite\u001b[39m(a, dtype\u001b[38;5;241m=\u001b[39m\u001b[38;5;28;01mNone\u001b[39;00m, order\u001b[38;5;241m=\u001b[39m\u001b[38;5;28;01mNone\u001b[39;00m):\n\u001b[1;32m    563\u001b[0m     \u001b[38;5;124;03m\"\"\"Convert the input to an array, checking for NaNs or Infs.\u001b[39;00m\n\u001b[1;32m    564\u001b[0m \n\u001b[1;32m    565\u001b[0m \u001b[38;5;124;03m    Parameters\u001b[39;00m\n\u001b[0;32m   (...)\u001b[0m\n\u001b[1;32m    623\u001b[0m \n\u001b[1;32m    624\u001b[0m \u001b[38;5;124;03m    \"\"\"\u001b[39;00m\n\u001b[0;32m--> 625\u001b[0m     a \u001b[38;5;241m=\u001b[39m \u001b[43masarray\u001b[49m\u001b[43m(\u001b[49m\u001b[43ma\u001b[49m\u001b[43m,\u001b[49m\u001b[43m \u001b[49m\u001b[43mdtype\u001b[49m\u001b[38;5;241;43m=\u001b[39;49m\u001b[43mdtype\u001b[49m\u001b[43m,\u001b[49m\u001b[43m \u001b[49m\u001b[43morder\u001b[49m\u001b[38;5;241;43m=\u001b[39;49m\u001b[43morder\u001b[49m\u001b[43m)\u001b[49m\n\u001b[1;32m    626\u001b[0m     \u001b[38;5;28;01mif\u001b[39;00m a\u001b[38;5;241m.\u001b[39mdtype\u001b[38;5;241m.\u001b[39mchar \u001b[38;5;129;01min\u001b[39;00m typecodes[\u001b[38;5;124m'\u001b[39m\u001b[38;5;124mAllFloat\u001b[39m\u001b[38;5;124m'\u001b[39m] \u001b[38;5;129;01mand\u001b[39;00m \u001b[38;5;129;01mnot\u001b[39;00m np\u001b[38;5;241m.\u001b[39misfinite(a)\u001b[38;5;241m.\u001b[39mall():\n\u001b[1;32m    627\u001b[0m         \u001b[38;5;28;01mraise\u001b[39;00m \u001b[38;5;167;01mValueError\u001b[39;00m(\n\u001b[1;32m    628\u001b[0m             \u001b[38;5;124m\"\u001b[39m\u001b[38;5;124marray must not contain infs or NaNs\u001b[39m\u001b[38;5;124m\"\u001b[39m)\n",
      "\u001b[0;31mKeyboardInterrupt\u001b[0m: "
     ]
    }
   ],
   "source": [
    "gabriel_graph = read('gg_en.pickle')\n",
    "graph = RNGGraph.from_gabriel_graph(gabriel_graph, k=16)\n",
    "save(graph, 'rng_en.pickle')"
   ]
  },
  {
   "cell_type": "code",
   "execution_count": null,
   "id": "fd2fbc8c",
   "metadata": {},
   "outputs": [],
   "source": []
  }
 ],
 "metadata": {
  "kernelspec": {
   "display_name": "Python 3 (ipykernel)",
   "language": "python",
   "name": "python3"
  },
  "language_info": {
   "codemirror_mode": {
    "name": "ipython",
    "version": 3
   },
   "file_extension": ".py",
   "mimetype": "text/x-python",
   "name": "python",
   "nbconvert_exporter": "python",
   "pygments_lexer": "ipython3",
   "version": "3.8.10"
  },
  "toc": {
   "base_numbering": 1,
   "nav_menu": {},
   "number_sections": true,
   "sideBar": true,
   "skip_h1_title": true,
   "title_cell": "Оглавление",
   "title_sidebar": "Оглавление",
   "toc_cell": true,
   "toc_position": {},
   "toc_section_display": true,
   "toc_window_display": false
  }
 },
 "nbformat": 4,
 "nbformat_minor": 5
}
