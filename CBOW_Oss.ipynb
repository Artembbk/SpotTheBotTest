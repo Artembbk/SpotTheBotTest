{
 "cells": [
  {
   "cell_type": "markdown",
   "id": "4da704e3",
   "metadata": {
    "id": "4da704e3"
   },
   "source": [
    "# Get word embeddings using Word2vec"
   ]
  },
  {
   "cell_type": "markdown",
   "id": "ce77a7cc",
   "metadata": {
    "id": "ce77a7cc"
   },
   "source": [
    "### 0. Before we get started"
   ]
  },
  {
   "cell_type": "code",
   "execution_count": 9,
   "id": "b6675525",
   "metadata": {
    "ExecuteTime": {
     "end_time": "2023-05-29T09:17:36.558078Z",
     "start_time": "2023-05-29T09:17:36.553060Z"
    },
    "id": "b6675525"
   },
   "outputs": [],
   "source": [
    "import io\n",
    "\n",
    "def load_corpus(fname):\n",
    "    fin = io.open(fname, 'r', encoding='utf-8', newline='\\n', errors='ignore')\n",
    "    documents = []\n",
    "    for line in fin:\n",
    "        documents.append(line.split())\n",
    "    return documents"
   ]
  },
  {
   "cell_type": "code",
   "execution_count": 10,
   "id": "7d6aee1b",
   "metadata": {
    "ExecuteTime": {
     "end_time": "2023-05-29T09:17:36.784391Z",
     "start_time": "2023-05-29T09:17:36.724472Z"
    },
    "id": "7d6aee1b"
   },
   "outputs": [],
   "source": [
    "def save_dictionary(fname, dictionary, args):\n",
    "    length, dimension = args\n",
    "    fin = io.open(fname, 'w', encoding='utf-8')\n",
    "    fin.write('%d %d\\n' % (length, dimension))\n",
    "    for word in dictionary:\n",
    "        fin.write('%s %s\\n' % (word, ' '.join(map(str, dictionary[word]))))\n",
    "        \n",
    "def load_dictionary(fname):\n",
    "    fin = io.open(fname, 'r', encoding='utf-8', newline='\\n', errors='ignore')\n",
    "    length, dimension = map(int, fin.readline().split())\n",
    "    dictionary = {}\n",
    "    for line in fin:\n",
    "        tokens = line.rstrip().split(' ')\n",
    "        dictionary[tokens[0]] = map(float, tokens[1:])\n",
    "    return dictionary"
   ]
  },
  {
   "cell_type": "markdown",
   "id": "665ac55a",
   "metadata": {
    "id": "665ac55a"
   },
   "source": [
    "### 1. Load our corpus"
   ]
  },
  {
   "cell_type": "code",
   "execution_count": null,
   "id": "2c849787",
   "metadata": {
    "ExecuteTime": {
     "start_time": "2023-05-29T09:17:37.027Z"
    },
    "id": "2c849787"
   },
   "outputs": [],
   "source": [
    "documents = load_corpus('origin_corpus_oss.txt')"
   ]
  },
  {
   "cell_type": "markdown",
   "id": "74ba39cd",
   "metadata": {
    "id": "74ba39cd"
   },
   "source": [
    "For checking, the corpus contains 12692 documents"
   ]
  },
  {
   "cell_type": "code",
   "execution_count": null,
   "id": "199be9f4",
   "metadata": {
    "ExecuteTime": {
     "start_time": "2023-05-29T09:17:37.416Z"
    },
    "id": "199be9f4"
   },
   "outputs": [],
   "source": [
    "len(documents)"
   ]
  },
  {
   "cell_type": "markdown",
   "id": "52f7db83",
   "metadata": {
    "id": "52f7db83"
   },
   "source": [
    "### 2. Train word2vec model"
   ]
  },
  {
   "cell_type": "code",
   "execution_count": null,
   "id": "ded62375",
   "metadata": {
    "ExecuteTime": {
     "start_time": "2023-05-29T09:17:37.743Z"
    },
    "id": "ded62375"
   },
   "outputs": [],
   "source": [
    "%%time\n",
    "from gensim.models import Word2Vec\n",
    "\n",
    "dimension = 20\n",
    "model = Word2Vec(sentences=documents, vector_size=dimension, min_count=1)"
   ]
  },
  {
   "cell_type": "code",
   "execution_count": null,
   "id": "f389b7bc",
   "metadata": {
    "ExecuteTime": {
     "start_time": "2023-05-29T09:17:37.893Z"
    },
    "id": "f389b7bc"
   },
   "outputs": [],
   "source": [
    "dictionary = {key : model.wv[key] for key in model.wv.key_to_index}"
   ]
  },
  {
   "cell_type": "markdown",
   "id": "87503d0a",
   "metadata": {
    "id": "87503d0a"
   },
   "source": [
    "For checking, the dictionary contains 192881 different words (if min_count = 1)"
   ]
  },
  {
   "cell_type": "code",
   "execution_count": null,
   "id": "5bae5562",
   "metadata": {
    "ExecuteTime": {
     "start_time": "2023-05-29T09:17:38.595Z"
    },
    "id": "5bae5562"
   },
   "outputs": [],
   "source": [
    "len(dictionary)"
   ]
  },
  {
   "cell_type": "markdown",
   "id": "069b3831",
   "metadata": {
    "id": "069b3831"
   },
   "source": [
    "Using word2vec models, you can find the closest word. For instance, I test the quality of the model on abstract nouns "
   ]
  },
  {
   "cell_type": "markdown",
   "id": "6462c9fa",
   "metadata": {
    "id": "6462c9fa"
   },
   "source": [
    "### 3. Save dictionary in file "
   ]
  },
  {
   "cell_type": "code",
   "execution_count": null,
   "id": "fd7bcf42",
   "metadata": {
    "ExecuteTime": {
     "start_time": "2023-05-29T09:17:40.252Z"
    },
    "id": "fd7bcf42"
   },
   "outputs": [],
   "source": [
    "save_dictionary('cbow_oss_dict.txt', dictionary, (len(dictionary), dimension))"
   ]
  },
  {
   "cell_type": "markdown",
   "id": "22db73b8",
   "metadata": {
    "id": "22db73b8"
   },
   "source": [
    "### 4. Check that everything is saved correctly (optional)"
   ]
  },
  {
   "cell_type": "code",
   "execution_count": null,
   "id": "1c27c4c2",
   "metadata": {
    "ExecuteTime": {
     "start_time": "2023-05-29T09:11:04.572Z"
    },
    "id": "1c27c4c2"
   },
   "outputs": [],
   "source": [
    "loaded_dictionary = load_dictionary('cbow_oss_dict.txt')\n",
    "len(dictionary) == len(loaded_dictionary)"
   ]
  }
 ],
 "metadata": {
  "colab": {
   "provenance": []
  },
  "kernelspec": {
   "display_name": "Python 3 (ipykernel)",
   "language": "python",
   "name": "python3"
  },
  "language_info": {
   "codemirror_mode": {
    "name": "ipython",
    "version": 3
   },
   "file_extension": ".py",
   "mimetype": "text/x-python",
   "name": "python",
   "nbconvert_exporter": "python",
   "pygments_lexer": "ipython3",
   "version": "3.8.10"
  },
  "toc": {
   "base_numbering": 1,
   "nav_menu": {},
   "number_sections": true,
   "sideBar": true,
   "skip_h1_title": false,
   "title_cell": "Table of Contents",
   "title_sidebar": "Contents",
   "toc_cell": false,
   "toc_position": {},
   "toc_section_display": true,
   "toc_window_display": false
  }
 },
 "nbformat": 4,
 "nbformat_minor": 5
}
