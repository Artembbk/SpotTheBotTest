{
 "cells": [
  {
   "cell_type": "code",
   "execution_count": 1,
   "id": "261d170b",
   "metadata": {
    "ExecuteTime": {
     "end_time": "2023-05-17T20:27:17.580021Z",
     "start_time": "2023-05-17T20:27:15.298729Z"
    }
   },
   "outputs": [],
   "source": [
    "import os\n",
    "\n",
    "path = './no_stop_words'\n",
    "text = ''\n",
    "for filename in os.listdir(path):\n",
    "    with open(os.path.join(path, filename)) as f:\n",
    "        text += f.read() + '\\n'\n",
    "    \n",
    "with open('corpus_ce.txt', 'w') as f:\n",
    "    f.write(text)"
   ]
  },
  {
   "cell_type": "code",
   "execution_count": null,
   "id": "6e77d66e",
   "metadata": {},
   "outputs": [],
   "source": []
  }
 ],
 "metadata": {
  "kernelspec": {
   "display_name": "Python 3 (ipykernel)",
   "language": "python",
   "name": "python3"
  },
  "language_info": {
   "codemirror_mode": {
    "name": "ipython",
    "version": 3
   },
   "file_extension": ".py",
   "mimetype": "text/x-python",
   "name": "python",
   "nbconvert_exporter": "python",
   "pygments_lexer": "ipython3",
   "version": "3.8.10"
  },
  "toc": {
   "base_numbering": 1,
   "nav_menu": {},
   "number_sections": true,
   "sideBar": true,
   "skip_h1_title": false,
   "title_cell": "Table of Contents",
   "title_sidebar": "Contents",
   "toc_cell": false,
   "toc_position": {},
   "toc_section_display": true,
   "toc_window_display": false
  }
 },
 "nbformat": 4,
 "nbformat_minor": 5
}
